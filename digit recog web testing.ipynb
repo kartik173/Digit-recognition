{
 "cells": [
  {
   "cell_type": "code",
   "execution_count": 102,
   "metadata": {},
   "outputs": [],
   "source": [
    "import cv2\n",
    "import matplotlib.pyplot as plt\n",
    "import numpy as np"
   ]
  },
  {
   "cell_type": "code",
   "execution_count": 382,
   "metadata": {},
   "outputs": [
    {
     "name": "stdout",
     "output_type": "stream",
     "text": [
      " * Serving Flask app \"__main__\" (lazy loading)\n",
      " * Environment: production\n",
      "   WARNING: Do not use the development server in a production environment.\n",
      "   Use a production WSGI server instead.\n",
      " * Debug mode: off\n"
     ]
    },
    {
     "name": "stderr",
     "output_type": "stream",
     "text": [
      " * Running on http://127.0.0.1:5000/ (Press CTRL+C to quit)\n",
      "[2019-01-23 02:08:25,170] ERROR in app: Exception on / [GET]\n",
      "Traceback (most recent call last):\n",
      "  File \"C:\\Users\\kartik\\Anaconda3\\lib\\site-packages\\flask\\app.py\", line 2292, in wsgi_app\n",
      "    response = self.full_dispatch_request()\n",
      "  File \"C:\\Users\\kartik\\Anaconda3\\lib\\site-packages\\flask\\app.py\", line 1815, in full_dispatch_request\n",
      "    rv = self.handle_user_exception(e)\n",
      "  File \"C:\\Users\\kartik\\Anaconda3\\lib\\site-packages\\flask\\app.py\", line 1718, in handle_user_exception\n",
      "    reraise(exc_type, exc_value, tb)\n",
      "  File \"C:\\Users\\kartik\\Anaconda3\\lib\\site-packages\\flask\\_compat.py\", line 35, in reraise\n",
      "    raise value\n",
      "  File \"C:\\Users\\kartik\\Anaconda3\\lib\\site-packages\\flask\\app.py\", line 1813, in full_dispatch_request\n",
      "    rv = self.dispatch_request()\n",
      "  File \"C:\\Users\\kartik\\Anaconda3\\lib\\site-packages\\flask\\app.py\", line 1799, in dispatch_request\n",
      "    return self.view_functions[rule.endpoint](**req.view_args)\n",
      "  File \"<ipython-input-382-62223071419c>\", line 12, in login\n",
      "    return user\n",
      "NameError: name 'user' is not defined\n",
      "127.0.0.1 - - [23/Jan/2019 02:08:25] \"GET /?nm=data%3Aimage%2Fpng%3Bbase64%2CiVBORw0KGgoAAAANSUhEUgAAAMgAAADICAYAAACtWK6eAAAKEUlEQVR4Xu2dv48NXxiHz%2F0H%2FAiJcvkLlk6HighBQqWwYmlRCB06hQSFRLc0av4CNlZvqy3XdjYhEZ2Q7DfvJLPfa92197535sznzPtMslnivnPe83zmMXN%2FzRmklDYSGwQgMJLAAEE4MiCwPQEE4eiAwD8IIAiHBwQQhGMAAj4CnEF83KgKQgBBggTNNH0EEMTHjaogBBAkSNBM00cAQXzcqApCAEGCBM00fQQQxMeNqiAEECRI0EzTRwBBfNyoCkIAQYIEzTR9BBDEx42qIAQQJEjQTNNHAEF83KgKQgBBggTNNH0EEMTHjaogBBAkSNBM00cAQXzcqApCAEGCBM00fQQQxMeNqiAEECRI0EzTRwBBfNyoCkIAQYIEzTR9BBDEx42qIAQQJEjQTNNHAEF83KgKQgBBggTNNH0EEMTHjaogBBAkSNBM00cAQXzcqApCAEGCBM00fQQQxMeNqiAEECRI0EzTRwBBfNyoCkIAQYIEzTR9BBDEx42qIAQQJEjQTNNHAEF83KgKQgBBggTNNH0EEMTHjaogBBAkSNBM00cAQXzcqApCAEGCBM00fQQQxMeNqiAEECRI0EzTRwBBfNyoCkIAQYIEzTR9BBDEx42qIAQQJEjQTNNHAEF83KgKQgBBggTNNH0EihXkwYMHf8x4Y2NjIgKDwSCtrq6mz58%2FV3Vra2ubf55oRzy41wSKFWRSISZJ0aSpxRn%2B87j7QL5xSek%2FrjhB7Mxx%2F%2F59fbLbdDitfLZbE3DrGbRYIOKNFy3I8vJyevPmTYV40jOKHWQHDx6sfmyz3zMzM%2BJx%2Fd%2Be9c%2FWPoHiBDl%2B%2FHhaWFioDui3b9%2Bm8%2BfPN05pqzj290kEzCkfojQe%2Fx87LE4QO1jtyXW97d27N33%2F%2Fr1dSg3ufVr56kus%2BjITQRoMZ8SuihPE5vDp06c0OzubVlZW0o0bN9LS0lK7lNh7WAJFCnL79u3qSequXbvSq1ev0tzcXNgAmXi7BIoUxJ6HvHv3riJjZ5MjR460S4m9hyVQpCBbX7XiOjzs8dv6xIsVpH4eYoROnDiR3r9%2F3zosBohHoFhBXr58ma5cuVJ9ROTWrVub74fEi5AZt0mgWEGePHlSiWGbPWF%2F%2BPBhm5zYd1ACxQpi7wPUH7dAkKBHb4ZpI0gGyAxRLgEEKTc7Os9AAEEyQGaIcgkgSLnZ0XkGAr0QxF7yvXr1agZcDBGNQLGC2Kdi7WPv9rET%2BxLSoUOHomXHfDMQKFYQY2Ni2Jec1tfX04cPH9KlS5cyIGOISASKFsTOHvfu3UsnT56sLrHsUosNAk0SKFoQAzH8mSx7N53vajd5eLCv4gUZvokDgnBAN00AQZomyv56RQBBehUnk2maAII0TZT99YoAgvQqTibTNAEEaZoo%2B%2BsVAQSZIk57N3%2FPnj0jb143fKO5Z8%2BeFXXvrimQ9K60V4IsLi5u%2B930Se6MuFPKJsbhw4erH3sfxn7%2Fa7O%2Bdu%2Fenex2RXx3fie6Wv%2FeK0G00I7uxt7tN1FKuhtkCVzb6rF4QWowTZ4hxoFtN4uwz4HZ%2FYG%2FfPlS%2FQxvdT92drG7rtgZpN5MDjuT2NnHNr5PPw7xbh7TG0F2%2BohJ0wKZGPZhyXHOBHZJ9vTp03Tu3LmRKdvdIa0%2FPrLfjQT%2FGrU3guih%2Fbsj%2B3ClXWLZmWOULK9fv06XL18uYSphekSQDqK2V75u3rxZjWzLN9RP8j9%2B%2FJh%2B%2FfqVLly4MNaZqYPWww2JIAKR21nl9%2B%2Ff6dq1a1U3dtlmkvCKV%2FfhIEj3GVQd2E3w7GZ4w9vz58%2FT48ePWVy0w4wQpEP4W4e25yi2pFz9ite3b9%2FSvn37qucs9gS%2BftVLqOXet4IgYhHb8xOT5MePH%2Bns2bOb3dl37uuVd8Va7nU7CCIa75kzZ9L8%2FPwfr3bxhbD8YSFIfuYTjfjo0aN09%2B7dqobFgiZC18iDEaQRjO3upF7qwUbhHmDtst66dwTJy9s12rAgbS197WosQBGCFBIyd2%2FpJigE6Ya7a1Tu4OLCNlURgkyFL28xguTlbaMhSH7m7hERxI3OXYggbnT5CxEkP3MEyc%2FcPSLrMrrRuQsRxI0ufyGC5GeOIPmZu0dEEDc6dyGCuNHlL0SQ%2FMwRJD9z94gI4kbnLkQQN7r8hQiSnzmC5GfuHhFB3OjchQjiRpe%2FEEHyM0eQ%2FMzdIyKIG527EEHc6PIXIkh%2B5giSn7l7RARxo3MXIogbXf5CBMnPHEHyM3ePiCBudO5CBHGjy1%2BIIPmZI0h%2B5u4REcSNzl2IIG50%2BQv5Pkh%2B5giSn7l7RARxo3MXIogbXf5CW4SnXjaBuyzm4Y8geThPNYrd1HphYaHah61WZRuCTIV07GIEGRtV%2FgeaDC9evKiWZzt16tRmA4OBxcaWg0DvBbHr9p3WL8wBetwxbMWpY8eOVStPmSBfv35N%2B%2FfvrxYJ%2FfnzZ7Woztzc3Li743FTEui9IPa%2Fr%2FrlyOnTp9P169crKUZtd%2B7cSUePHk0XL16cMm7KJyXQa0GGX%2FVZXFxMdi3f9WZnBVsDpD5D2NnCzg4mwKjN7sVr82DxnG6S67UghtQuSewgtG15ebm6nreDrullobeLr36%2BYGLMzs5WC3bawV4v3FnXra%2BvpwMHDiRbf90W0LG%2B7TdbtwR6L4jhHT6TdIv779HtzFavo25CsIqUVkIhBDHk9r%2B2vY9Qv1zaRQx2dpiZmanOYHZZZT%2B2tAFSdJHGeGOGEaTGUb%2BilfsSy8avzxC2zDNbGQTCCVJGLHSpQgBBVJKgD0kCCCIZC02pEEAQlSToQ5IAgkjGQlMqBBBEJQn6kCSAIJKx0JQKAQRRSYI%2BJAkgiGQsNKVCAEFUkqAPSQIIIhkLTakQQBCVJOhDkgCCSMZCUyoEEEQlCfqQJIAgkrHQlAoBBFFJgj4kCSCIZCw0pUIAQVSSoA9JAggiGQtNqRBAEJUk6EOSAIJIxkJTKgQQRCUJ%2BpAkgCCSsdCUCgEEUUmCPiQJIIhkLDSlQgBBVJKgD0kCCCIZC02pEEAQlSToQ5IAgkjGQlMqBBBEJQn6kCSAIJKx0JQKAQRRSYI%2BJAkgiGQsNKVCAEFUkqAPSQIIIhkLTakQQBCVJOhDkgCCSMZCUyoEEEQlCfqQJIAgkrHQlAoBBFFJgj4kCSCIZCw0pUIAQVSSoA9JAggiGQtNqRBAEJUk6EOSAIJIxkJTKgQQRCUJ%2BpAkgCCSsdCUCgEEUUmCPiQJIIhkLDSlQgBBVJKgD0kCCCIZC02pEEAQlSToQ5IAgkjGQlMqBBBEJQn6kCSAIJKx0JQKAQRRSYI%2BJAkgiGQsNKVCAEFUkqAPSQIIIhkLTakQQBCVJOhDkgCCSMZCUyoEEEQlCfqQJIAgkrHQlAoBBFFJgj4kCSCIZCw0pUIAQVSSoA9JAggiGQtNqRBAEJUk6EOSAIJIxkJTKgT%2BA0hady7wgcfPAAAAAElFTkSuQmCC HTTP/1.1\" 500 -\n"
     ]
    }
   ],
   "source": [
    "from flask import Flask, redirect, url_for, request\n",
    "app = Flask(__name__)\n",
    "st=\"\"\n",
    "@app.route('/',methods = ['POST', 'GET'])\n",
    "def login():\n",
    "\n",
    "    if request.method == 'POST':\n",
    "        st = request.form['nm']\n",
    "        return user\n",
    "    else:\n",
    "        st = request.args.get('nm')\n",
    "        return user\n",
    "\n",
    "if __name__ == '__main__':\n",
    "    app.run()\n"
   ]
  },
  {
   "cell_type": "code",
   "execution_count": 383,
   "metadata": {},
   "outputs": [
    {
     "ename": "ValueError",
     "evalue": "not enough values to unpack (expected 2, got 1)",
     "output_type": "error",
     "traceback": [
      "\u001b[1;31m---------------------------------------------------------------------------\u001b[0m",
      "\u001b[1;31mValueError\u001b[0m                                Traceback (most recent call last)",
      "\u001b[1;32m<ipython-input-383-831c9c6985cd>\u001b[0m in \u001b[0;36m<module>\u001b[1;34m()\u001b[0m\n\u001b[0;32m      2\u001b[0m \u001b[1;33m\u001b[0m\u001b[0m\n\u001b[0;32m      3\u001b[0m \u001b[0mdata_uri\u001b[0m \u001b[1;33m=\u001b[0m \u001b[0mst\u001b[0m\u001b[1;33m\u001b[0m\u001b[0m\n\u001b[1;32m----> 4\u001b[1;33m \u001b[0mheader\u001b[0m\u001b[1;33m,\u001b[0m \u001b[0mencoded\u001b[0m \u001b[1;33m=\u001b[0m \u001b[0mdata_uri\u001b[0m\u001b[1;33m.\u001b[0m\u001b[0msplit\u001b[0m\u001b[1;33m(\u001b[0m\u001b[1;34m\",\"\u001b[0m\u001b[1;33m,\u001b[0m \u001b[1;36m1\u001b[0m\u001b[1;33m)\u001b[0m\u001b[1;33m\u001b[0m\u001b[0m\n\u001b[0m\u001b[0;32m      5\u001b[0m \u001b[0mdata\u001b[0m \u001b[1;33m=\u001b[0m \u001b[0mb64decode\u001b[0m\u001b[1;33m(\u001b[0m\u001b[0mencoded\u001b[0m\u001b[1;33m)\u001b[0m\u001b[1;33m\u001b[0m\u001b[0m\n\u001b[0;32m      6\u001b[0m \u001b[1;33m\u001b[0m\u001b[0m\n",
      "\u001b[1;31mValueError\u001b[0m: not enough values to unpack (expected 2, got 1)"
     ]
    }
   ],
   "source": [
    "from base64 import b64decode\n",
    "\n",
    "data_uri = st\n",
    "header, encoded = data_uri.split(\",\", 1)\n",
    "data = b64decode(encoded)\n",
    "\n",
    "with open(\"image.png\", \"wb\") as f:\n",
    "    f.write(data)"
   ]
  },
  {
   "cell_type": "code",
   "execution_count": null,
   "metadata": {},
   "outputs": [],
   "source": [
    "img=cv2.imread('image.png',0)\n",
    "plt.imshow(img,cmap='gray')"
   ]
  },
  {
   "cell_type": "code",
   "execution_count": 371,
   "metadata": {},
   "outputs": [
    {
     "data": {
      "text/plain": [
       "<matplotlib.image.AxesImage at 0x5b0da5d358>"
      ]
     },
     "execution_count": 371,
     "metadata": {},
     "output_type": "execute_result"
    },
    {
     "data": {
      "image/png": "[encoded data removed]",
      "text/plain": [
       "<Figure size 432x288 with 1 Axes>"
      ]
     },
     "metadata": {},
     "output_type": "display_data"
    }
   ],
   "source": [
    "img=cv2.GaussianBlur(img,(5,5),0)\n",
    "plt.imshow(img,cmap='gray')"
   ]
  },
  {
   "cell_type": "code",
   "execution_count": 372,
   "metadata": {},
   "outputs": [],
   "source": [
    "kernel = np.ones((5,5),np.uint8)\n",
    "erosion = cv2.dilate(img,kernel,iterations = 1)"
   ]
  },
  {
   "cell_type": "code",
   "execution_count": 373,
   "metadata": {},
   "outputs": [
    {
     "data": {
      "text/plain": [
       "<matplotlib.image.AxesImage at 0x5b0be5e780>"
      ]
     },
     "execution_count": 373,
     "metadata": {},
     "output_type": "execute_result"
    },
    {
     "data": {
      "image/png": "[encoded data removed]",
      "text/plain": [
       "<Figure size 432x288 with 1 Axes>"
      ]
     },
     "metadata": {},
     "output_type": "display_data"
    }
   ],
   "source": [
    "plt.imshow(erosion,cmap='gray')"
   ]
  },
  {
   "cell_type": "code",
   "execution_count": 374,
   "metadata": {},
   "outputs": [
    {
     "data": {
      "text/plain": [
       "<matplotlib.image.AxesImage at 0x5b0bc6a550>"
      ]
     },
     "execution_count": 374,
     "metadata": {},
     "output_type": "execute_result"
    },
    {
     "data": {
      "image/png": "[encoded data removed]",
      "text/plain": [
       "<Figure size 432x288 with 1 Axes>"
      ]
     },
     "metadata": {},
     "output_type": "display_data"
    }
   ],
   "source": [
    "x1=cv2.resize(erosion,(28,28))\n",
    "plt.imshow(x1,cmap='gray')"
   ]
  },
  {
   "cell_type": "code",
   "execution_count": 375,
   "metadata": {},
   "outputs": [
    {
     "data": {
      "text/plain": [
       "<matplotlib.image.AxesImage at 0x5b0db4b898>"
      ]
     },
     "execution_count": 375,
     "metadata": {},
     "output_type": "execute_result"
    },
    {
     "data": {
      "image/png": "[encoded data removed]",
      "text/plain": [
       "<Figure size 432x288 with 1 Axes>"
      ]
     },
     "metadata": {},
     "output_type": "display_data"
    }
   ],
   "source": [
    "ret,t1 = cv2.threshold(x1,0,255,cv2.THRESH_BINARY)\n",
    "plt.imshow(t1,cmap='gray')"
   ]
  },
  {
   "cell_type": "code",
   "execution_count": 376,
   "metadata": {},
   "outputs": [
    {
     "data": {
      "text/plain": [
       "True"
      ]
     },
     "execution_count": 376,
     "metadata": {},
     "output_type": "execute_result"
    }
   ],
   "source": [
    "cv2.imwrite('mod.png',t1)"
   ]
  },
  {
   "cell_type": "code",
   "execution_count": 377,
   "metadata": {},
   "outputs": [
    {
     "name": "stdout",
     "output_type": "stream",
     "text": [
      "torch.Size([1, 28, 28])\n",
      "torch.Size([1, 784])\n",
      "tensor([7])\n"
     ]
    }
   ],
   "source": [
    "#img=cv2.imread('mod.png')\n",
    "#norm_image = cv2.normalize(img, None, alpha=0, beta=1, norm_type=cv2.NORM_MINMAX, dtype=cv2.CV_32F)\n",
    "\n",
    "from PIL import Image as l\n",
    "o=l.open('mod.png')\n",
    "\n",
    "#img.shape\n",
    "from torchvision import transforms\n",
    "m1=transforms.Grayscale().__call__(o)\n",
    "m=transforms.ToTensor().__call__(m1)\n",
    "\n",
    "#m=torch.from_numpy(img)\n",
    "print(m.shape)\n",
    "m=m.view(1, -1)\n",
    "print(m.shape)\n",
    "x=torch.load('model_full.pt')\n",
    "#print(x)\n",
    "with torch.no_grad():\n",
    "    output = x(m)\n",
    "    _, pred = torch.max(output, 1)\n",
    "\n",
    "print(pred)"
   ]
  },
  {
   "cell_type": "code",
   "execution_count": 378,
   "metadata": {},
   "outputs": [
    {
     "name": "stdout",
     "output_type": "stream",
     "text": [
      "tensor([[-2.2835,  2.9951,  4.4653,  3.7731, -4.7450, -5.0878, -6.4866,  8.7106,\n",
      "         -1.0013,  0.9084]])\n"
     ]
    }
   ],
   "source": [
    "print(output)"
   ]
  },
  {
   "cell_type": "code",
   "execution_count": 379,
   "metadata": {},
   "outputs": [],
   "source": [
    "values=output.numpy()\n",
    "#values"
   ]
  },
  {
   "cell_type": "code",
   "execution_count": 380,
   "metadata": {},
   "outputs": [],
   "source": [
    "val=np.exp(values) / np.sum(np.exp(values), axis=1)\n",
    "#val"
   ]
  },
  {
   "cell_type": "code",
   "execution_count": 381,
   "metadata": {},
   "outputs": [
    {
     "data": {
      "image/png": "[encoded data removed]",
      "text/plain": [
       "<Figure size 432x288 with 1 Axes>"
      ]
     },
     "metadata": {},
     "output_type": "display_data"
    }
   ],
   "source": [
    "index = np.arange(len(val[0]))\n",
    "plt.bar(index,val[0])\n",
    "plt.xlabel('digits', fontsize=15)\n",
    "plt.ylabel('probablity', fontsize=15)\n",
    "plt.xticks(index)\n",
    "plt.show()"
   ]
  },
  {
   "cell_type": "code",
   "execution_count": null,
   "metadata": {},
   "outputs": [],
   "source": []
  }
 ],
 "metadata": {
  "kernelspec": {
   "display_name": "Python 3",
   "language": "python",
   "name": "python3"
  },
  "language_info": {
   "codemirror_mode": {
    "name": "ipython",
    "version": 3
   },
   "file_extension": ".py",
   "mimetype": "text/x-python",
   "name": "python",
   "nbconvert_exporter": "python",
   "pygments_lexer": "ipython3",
   "version": "3.6.5"
  }
 },
 "nbformat": 4,
 "nbformat_minor": 2
}
