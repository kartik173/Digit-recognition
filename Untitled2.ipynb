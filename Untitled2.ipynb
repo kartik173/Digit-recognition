{
 "cells": [
  {
   "cell_type": "code",
   "execution_count": null,
   "metadata": {},
   "outputs": [
    {
     "name": "stdout",
     "output_type": "stream",
     "text": [
      " * Serving Flask app \"__main__\" (lazy loading)\n",
      " * Environment: production\n",
      "   WARNING: Do not use the development server in a production environment.\n",
      "   Use a production WSGI server instead.\n",
      " * Debug mode: off\n"
     ]
    },
    {
     "name": "stderr",
     "output_type": "stream",
     "text": [
      " * Running on http://127.0.0.1:5000/ (Press CTRL+C to quit)\n",
      "127.0.0.1 - - [23/Jan/2019 02:03:45] \"GET /?nm=data%3Aimage%2Fpng%3Bbase64%2CiVBORw0KGgoAAAANSUhEUgAAAMgAAADICAYAAACtWK6eAAAL%2BklEQVR4Xu2dT4hP3R%2FHD5Y8KLMkxEJJ2NhYYGUUoWyshrJHKePvkDJmNURSFthoFvKnLOywUDYTU5SyMbKgiAkLSZ7e99ed35155s%2F9nns%2B3%2B%2F3M%2Fd16qnn8dxzPue%2BPt%2BXe8499547K4TwN1AgAIEJCcxCEH4ZEJicAILw64DAFAQQhJ8HBBCE3wAE4ghwBYnjRq2aEECQmiSa04wjgCBx3KhVEwIIUpNEc5pxBBAkjhu1akIAQWqSaE4zjgCCxHGjVk0IIEhNEs1pxhFAkDhu1KoJAQSpSaI5zTgCCBLHjVo1IYAgNUk0pxlHAEHiuFGrJgQQpCaJ5jTjCCBIHDdq1YQAgtQk0ZxmHAEEieNGrZoQQJCaJJrTjCOAIHHcqFUTAghSk0RzmnEEECSOG7VqQgBBapJoTjOOAILEcaNWTQggSE0SzWnGEUCQOG7UqgkBBKlJojnNOAIIEseNWjUhgCA1STSnGUcAQeK4UasmBBCkJonmNOMIIEgcN2rVhACC1CTRnGYcAQSJ40atmhBAkBYketmyZaGrq6t05LNnz5Y%2BlgPTEkCQtDynbG3fvn2hp6cnvHv3LmzevLl05FmzlCZKKwggiDH1hQsXhs7OztDb2xt05ahSEKUKvbi6CBLHbdpakuHgwYNBVw1dMdatWzdaZ3h4ODx%2B%2FDj782KZ7KqS%2F%2FmZM2emjTuRRGXqTdtwTQ9AkMSJ149ZYuzatWtMy4ODg6GjoyPox3rz5s0Jo%2F79%2Bzdxb%2F7XHFeeeKwIEs%2FuP3%2F737hxY8JhlK4Y3d3dYWBgYMpoCJIoGQmbQZBEMHXl0LCpWB48eBAuXrwYnjx5UipKLkiVIRFDrFKoSx%2BEIKVRTX6gftC6O6Xy69evcO3atUyM8XOMBKFooskEECQB8KIgfX192XCKMjMIIEjFPBbl0IJeleFRxa5Q3YAAglSEqqGU7lqpIEhFmG1YHUEqJuX%2B%2Ffth586d2Xzj8OHDQf9NmTkEEKRiLr99%2BxYWLFiQtbJ%2B%2Ffrw8uXLii1SvZ0IIEiFbGh1%2FMWLF1kLIyMjQY%2BVUGYWAQSpkE%2BtlmsOsnTp0qA1j%2FGr5xWapmqbEECQConQ2kd%2B10qiaA5CmVkEEKRCPouCSBTe26gAs02rIkiFxCBIBXhOqiJIhUT19%2FeHQ4cOZS1wBakAso2rIkiF5Oixdb06q1u9%2B%2FfvZw2kAst2rYogFTKjNY%2B1a9dmLWzZsqX0U7sVQlK1yQQQpALw4vsbvJRUAWQbV0WQyOQU3%2F8YGhoa80ptZJNUa0MCCBKZlOIi4a1bt7J3zykzjwCCROaURcJIcM6qIUhkwlgDiQTnrBqCRCYMQSLBOauGIJEJK75JyBwkEqKDaggSmSRtDKdtfnQ368OHD2HNmjXZgiFlZhFAkAr51FuEetT958%2Bf4c%2BfP%2BHu3bvh0qVLvDRVgWm7VUWQChnR1WPlypXh%2BvXrY1rRCvupU6fCw4cPK7RO1XYggCAVsyBJ9C5I%2FshJ3py2Gp0zZ072jkjZjeMqdoXqBgQQJBFUvX6rJ3u1gPj169cxW5DqoUaJwhwlEewmNoMgiWHrvfQDBw6EkydPjm7moBCSQ3e%2BNEeh%2BCGAIEa50l0uDb20JVCxaH7CsMsIukGzCGIAtdik5igaYuluV7Ew7DIGn6h5BEkEcrpmNLzSHCXfQysfdp04cSJcvXp1uur8%2FxYRQJAmgp9o2PXs2bPw%2B%2Ffv7I1EdoNvYjJKhkKQkqBSHpYPuz59%2BhQ2bNiQNa1JvOYmk319KmV82ipPAEHKs0p%2B5LFjx8L58%2BfHtKu9fXU14ZZwctxRDSJIFLZ0lbR%2BoqtGcaFRcuzevZsFxnSYo1tCkGh06Spq7UST%2BPwzCnnLuk2szei4mqRj3WhLCNIoMcPjNTfREKt4p0vrJhpysWu8IfgpmkaQ1nCfNKquJhpyjV9gPH78eOjt7W2z3s787iBIm%2BZYm0BoiJVfTfQFXW0tpLkJQ67mJQ1Bmse64UhaN9HVZP78%2BdnHefLbwUzgG0YZXQFBotE1r%2BJEt4PZC7g5%2FBGkOZwrR5loAq%2F3TBhyVUY7ZQMIYss3aeuawOsu16ZNm0bbZc0kKeL%2FNIYgtnxNWi%2FuqJIH0GMqmtRT0hJAkLQ8m9ba%2BCGXHnp8%2B%2FZttmZCSUcAQdKxbHpL%2BZBr8eLFYcWKFVl83fVCknSpQJB0LFvW0u3bt8PevXtH4yNJulQgSDqWLW0p%2F9pV3gkkSZMOBEnDsS1aQZL0aUCQ9Exb2iKSpMWPIGl5tkVrSJIuDQiSjmVbtVSUhFvA8alBkHh2bV9Tkmjv4I0bN4a%2Bvr7w6NEj3lJsMGsI0iAwb4ffuXMnrF69OqxatSrbNWX58uXeTqGl%2FUWQluJvTvD8Mw1Pnz7NPjbK9kLluSNIeVZujyzOR%2FSOu57lopQjgCDlOLk%2BSu%2Bz57umIEhjqUSQxni5O7p49WB1vfH0IUjjzNzU0BO%2FnZ2d4ejRo1mf%2Bdho46lDkMaZuanx%2Fv37sGTJkvDmzZvw%2BvXrsGfPHjd9b5eOIki7ZCJhP%2FSVq8uXL4d58%2BYFPRI%2FPDw85otXCUPN%2BKYQZAalWEOqnp6e7NPUedGbhpqk853EuEQjSAQ3%2Fa3cTntTaXsgiaE1jmIZGRnJ%2FkzvsVPiCCBIBDf94PTFqFZvCSpRtZ%2FvROsaup2rd9TbSeQI1C2vgiANpkDj%2B3v37o3WOnfuXDh9%2BnSDrVQ%2F%2FMiRI0Ffp5IkxaI7VRKG1fLqjNUCgjTIUZ9R6%2B%2FvH62lu0Nz584N%2BWMcDTbX8OEaMmk4pSuDPp2QF8WXGMw1GkY6ZQUEieCZf9Pjx48f2ZOyedHf3tpL1%2BIDOLkYmm%2FkZWhoKLuCSFrmGRGJLFEFQUpAmuyQ7du3hytXrmTDmeJmbqk%2BWaAfvxb6tKt7UQz1R7duu7u7w8DAQIUzoOp0BBBkOkIl%2Fn%2B%2ByfT4HQ91JYn5m11XKE2%2BNd%2F5%2FPlz9k5HXiSGhlJ8y7BEYhIcgiAJIOZN6AetH27xAzj6b91RmmrSLMF0V2zbtm1h69atY%2BYWantwcDB0dHQgRsJclW0KQcqSKnnc%2BG8OfvnyJSxatChbrHv%2B%2FHn4%2BPFjNm%2FQPxKjuKj3%2Ffv38M8%2F%2F4yJpHnGhQsXGEqV5J%2F6MARJTTSE7MevK8fs2bPDjh07Gorw6tWr7PkpDc20jsGn1xrCl%2FxgBEmO9P8N6uqgO0z6nJquBMUv2WqVOx%2BK6d8lgv7RK7KShAU%2Bw8Q00DSCNAAr9tB8SNXV1TXahISRBJICGWLJ2tdDEHvGRHBMAEEcJ4%2Bu2xNAEHvGRHBMAEEcJ4%2Bu2xNAEHvGRHBMAEEcJ4%2Bu2xNAEHvGRHBMAEEcJ4%2Bu2xNAEHvGRHBMAEEcJ4%2Bu2xNAEHvGRHBMAEEcJ4%2Bu2xNAEHvGRHBMAEEcJ4%2Bu2xNAEHvGRHBMAEEcJ4%2Bu2xNAEHvGRHBMAEEcJ4%2Bu2xNAEHvGRHBMAEEcJ4%2Bu2xNAEHvGRHBMAEEcJ4%2Bu2xNAEHvGRHBMAEEcJ4%2Bu2xNAEHvGRHBMAEEcJ4%2Bu2xNAEHvGRHBMAEEcJ4%2Bu2xNAEHvGRHBMAEEcJ4%2Bu2xNAEHvGRHBMAEEcJ4%2Bu2xNAEHvGRHBMAEEcJ4%2Bu2xNAEHvGRHBMAEEcJ4%2Bu2xNAEHvGRHBMAEEcJ4%2Bu2xNAEHvGRHBMAEEcJ4%2Bu2xNAEHvGRHBMAEEcJ4%2Bu2xNAEHvGRHBMAEEcJ4%2Bu2xNAEHvGRHBMAEEcJ4%2Bu2xNAEHvGRHBMAEEcJ4%2Bu2xNAEHvGRHBMAEEcJ4%2Bu2xNAEHvGRHBMAEEcJ4%2Bu2xNAEHvGRHBMAEEcJ4%2Bu2xNAEHvGRHBMAEEcJ4%2Bu2xNAEHvGRHBMAEEcJ4%2Bu2xNAEHvGRHBMAEEcJ4%2Bu2xNAEHvGRHBMAEEcJ4%2Bu2xNAEHvGRHBMAEEcJ4%2Bu2xNAEHvGRHBMAEEcJ4%2Bu2xNAEHvGRHBMAEEcJ4%2Bu2xNAEHvGRHBMAEEcJ4%2Bu2xNAEHvGRHBMAEEcJ4%2Bu2xNAEHvGRHBMAEEcJ4%2Bu2xNAEHvGRHBMAEEcJ4%2Bu2xNAEHvGRHBMAEEcJ4%2Bu2xNAEHvGRHBMAEEcJ4%2Bu2xNAEHvGRHBMAEEcJ4%2Bu2xP4F2Kuti7dG2LFAAAAAElFTkSuQmCC HTTP/1.1\" 200 -\n"
     ]
    }
   ],
   "source": [
    "from flask import Flask, redirect, url_for, request\n",
    "app = Flask(__name__)\n",
    "\n",
    "@app.route('/success/<name>')\n",
    "def success(name):\n",
    "\treturn 'welcome %s' % name\n",
    "\n",
    "@app.route('/',methods = ['POST', 'GET'])\n",
    "def login():\n",
    "\t\n",
    "\tif request.method == 'POST':\n",
    "\t\tuser = request.form['nm']\n",
    "\t\treturn user\n",
    "\telse:\n",
    "\t\tuser = request.args.get('nm')\n",
    "\t\treturn user\n",
    "\n",
    "if __name__ == '__main__':\n",
    "\tapp.run()\n"
   ]
  },
  {
   "cell_type": "code",
   "execution_count": null,
   "metadata": {},
   "outputs": [],
   "source": []
  }
 ],
 "metadata": {
  "kernelspec": {
   "display_name": "Python 3",
   "language": "python",
   "name": "python3"
  },
  "language_info": {
   "codemirror_mode": {
    "name": "ipython",
    "version": 3
   },
   "file_extension": ".py",
   "mimetype": "text/x-python",
   "name": "python",
   "nbconvert_exporter": "python",
   "pygments_lexer": "ipython3",
   "version": "3.6.5"
  }
 },
 "nbformat": 4,
 "nbformat_minor": 2
}
